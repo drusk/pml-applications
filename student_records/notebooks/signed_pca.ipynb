{
 "metadata": {
  "name": "signed_pca"
 },
 "nbformat": 3,
 "nbformat_minor": 0,
 "worksheets": [
  {
   "cells": [
    {
     "cell_type": "code",
     "collapsed": false,
     "input": [
      "from pml.api import *\n",
      "import pandas as pd\n",
      "import matplotlib.pyplot as plt"
     ],
     "language": "python",
     "metadata": {},
     "outputs": [],
     "prompt_number": 12
    },
    {
     "cell_type": "code",
     "collapsed": false,
     "input": [
      "data = load(\"../dataset_ext2.csv\")\n",
      "data = data.drop_empty_samples()\n",
      "data.fill_missing_with_feature_means()"
     ],
     "language": "python",
     "metadata": {},
     "outputs": [],
     "prompt_number": 2
    },
    {
     "cell_type": "code",
     "collapsed": false,
     "input": [
      "data.get_label_value_counts()"
     ],
     "language": "python",
     "metadata": {},
     "outputs": [
      {
       "output_type": "pyout",
       "prompt_number": 3,
       "text": [
        "f    30\n",
        "s    26\n",
        "p    16"
       ]
      }
     ],
     "prompt_number": 3
    },
    {
     "cell_type": "code",
     "collapsed": false,
     "input": [
      "# Get first principal component\n",
      "princomp = pca(data, 1)\n",
      "signed_weights = pd.Series(princomp.weights[:, 0], \n",
      "                           index=princomp._original_features)"
     ],
     "language": "python",
     "metadata": {},
     "outputs": [],
     "prompt_number": 13
    },
    {
     "cell_type": "code",
     "collapsed": false,
     "input": [
      "print signed_weights.order(ascending=False)"
     ],
     "language": "python",
     "metadata": {},
     "outputs": [
      {
       "output_type": "stream",
       "stream": "stdout",
       "text": [
        "ENGR120    0.002989\n",
        "ENGR110    0.002226\n",
        "ENGL135   -0.089390\n",
        "CHEM150   -0.242886\n",
        "MATH101   -0.260933\n",
        "ELEC199   -0.268938\n",
        "MATH100   -0.271468\n",
        "PHYS125   -0.287089\n",
        "PHYS122   -0.288521\n",
        "MECH141   -0.320300\n",
        "CSC115    -0.335191\n",
        "CSC111    -0.339158\n",
        "MATH110   -0.472499\n"
       ]
      }
     ],
     "prompt_number": 15
    },
    {
     "cell_type": "code",
     "collapsed": false,
     "input": [
      "min_weight = signed_weights.min()\n",
      "max_weight = signed_weights.max()\n",
      "print min_weight, max_weight"
     ],
     "language": "python",
     "metadata": {},
     "outputs": [
      {
       "output_type": "stream",
       "stream": "stdout",
       "text": [
        "-0.472498927759 0.00298931311672\n"
       ]
      }
     ],
     "prompt_number": 17
    },
    {
     "cell_type": "code",
     "collapsed": false,
     "input": [
      "normalized_weights = ((signed_weights - min_weight) \n",
      "                       / (max_weight - min_weight))\n",
      "print normalized_weights.order(ascending=False)"
     ],
     "language": "python",
     "metadata": {},
     "outputs": [
      {
       "output_type": "stream",
       "stream": "stdout",
       "text": [
        "ENGR120    1.000000\n",
        "ENGR110    0.998394\n",
        "ENGL135    0.805716\n",
        "CHEM150    0.482898\n",
        "MATH101    0.444945\n",
        "ELEC199    0.428110\n",
        "MATH100    0.422787\n",
        "PHYS125    0.389935\n",
        "PHYS122    0.386925\n",
        "MECH141    0.320089\n",
        "CSC115     0.288773\n",
        "CSC111     0.280429\n",
        "MATH110    0.000000\n"
       ]
      }
     ],
     "prompt_number": 21
    },
    {
     "cell_type": "code",
     "collapsed": false,
     "input": [],
     "language": "python",
     "metadata": {},
     "outputs": []
    }
   ],
   "metadata": {}
  }
 ]
}