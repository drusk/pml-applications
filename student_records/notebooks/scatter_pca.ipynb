{
 "metadata": {
  "name": "scatter_pca"
 },
 "nbformat": 3,
 "nbformat_minor": 0,
 "worksheets": [
  {
   "cells": [
    {
     "cell_type": "code",
     "collapsed": false,
     "input": [
      "from pml.api import *\n",
      "import matplotlib.pyplot as plt"
     ],
     "language": "python",
     "metadata": {},
     "outputs": [],
     "prompt_number": 40
    },
    {
     "cell_type": "code",
     "collapsed": false,
     "input": [
      "data = load(\"../dataset_ext2.csv\")\n",
      "data = data.drop_empty_samples()\n",
      "data.fill_missing_with_feature_means()"
     ],
     "language": "python",
     "metadata": {},
     "outputs": [],
     "prompt_number": 41
    },
    {
     "cell_type": "code",
     "collapsed": false,
     "input": [
      "data.get_label_value_counts()"
     ],
     "language": "python",
     "metadata": {},
     "outputs": [
      {
       "output_type": "pyout",
       "prompt_number": 42,
       "text": [
        "f    30\n",
        "s    26\n",
        "p    16"
       ]
      }
     ],
     "prompt_number": 42
    },
    {
     "cell_type": "code",
     "collapsed": false,
     "input": [
      "# Get first principal component\n",
      "princomp = pca(data, 1)\n",
      "princomp.get_first_component_impacts()"
     ],
     "language": "python",
     "metadata": {},
     "outputs": [
      {
       "output_type": "pyout",
       "prompt_number": 43,
       "text": [
        "MATH110    0.472499\n",
        "CSC111     0.339158\n",
        "CSC115     0.335191\n",
        "MECH141    0.320300\n",
        "PHYS122    0.288521\n",
        "PHYS125    0.287089\n",
        "MATH100    0.271468\n",
        "ELEC199    0.268938\n",
        "MATH101    0.260933\n",
        "CHEM150    0.242886\n",
        "ENGL135    0.089390\n",
        "ENGR120    0.002989\n",
        "ENGR110    0.002226"
       ]
      }
     ],
     "prompt_number": 43
    },
    {
     "cell_type": "code",
     "collapsed": false,
     "input": [
      "princomp.feature_list()"
     ],
     "language": "python",
     "metadata": {},
     "outputs": [
      {
       "output_type": "pyout",
       "prompt_number": 44,
       "text": [
        "[0]"
       ]
      }
     ],
     "prompt_number": 44
    },
    {
     "cell_type": "code",
     "collapsed": false,
     "input": [
      "# plot configuration\n",
      "markers = {\"s\": \"o\", \"p\": \"^\", \"f\": \"x\"}\n",
      "colours = {\"s\": \"g\", \"p\": \"y\", \"f\": \"r\"}"
     ],
     "language": "python",
     "metadata": {},
     "outputs": [],
     "prompt_number": 45
    },
    {
     "cell_type": "code",
     "collapsed": false,
     "input": [
      "# Plot 1st PC Weights For Each Sample\n",
      "plt.figure(1)\n",
      "plt.subplot(3, 5, 1)\n",
      "\n",
      "for label in data.get_label_set():\n",
      "    filtered = data.label_filter(label)\n",
      "    \n",
      "    xs = filtered.get_sample_ids()\n",
      "    ys = princomp.get_rows(xs).get_column(0)\n",
      "\n",
      "    plt.scatter(xs, ys, color=colours[label], \n",
      "                marker=markers[label])\n",
      "\n",
      "plt.xlabel(\"Sample Id\")\n",
      "plt.ylabel(\"First Principal Component\")\n",
      "plt.title(\"1st PC Weights For Each Sample\")"
     ],
     "language": "python",
     "metadata": {},
     "outputs": [
      {
       "output_type": "pyout",
       "prompt_number": 52,
       "text": [
        "<matplotlib.text.Text at 0x9715510>"
       ]
      }
     ],
     "prompt_number": 52
    },
    {
     "cell_type": "code",
     "collapsed": false,
     "input": [
      "# For each course, plot grades for each sample (student)\n",
      "for i, course in enumerate(data.feature_list()):\n",
      "    # Plot 1 used for 1st PC, so start at 2 here\n",
      "    plt.subplot(3, 5, i + 2)\n",
      "\n",
      "    for label in data.get_label_set():\n",
      "        filtered = data.label_filter(label)\n",
      "    \n",
      "        xs = filtered.get_sample_ids()\n",
      "        ys = filtered.get_rows(xs).get_column(course)\n",
      "\n",
      "        plt.scatter(xs, ys, color=colours[label], \n",
      "                    marker=markers[label])\n",
      "\n",
      "    plt.xlabel(\"Sample Id\")\n",
      "    plt.ylabel(\"%s Grade\" % course)\n",
      "    plt.title(\"%s Grade For Each Sample\" % course)\n",
      "    \n",
      "plt.show()"
     ],
     "language": "python",
     "metadata": {},
     "outputs": [],
     "prompt_number": 53
    },
    {
     "cell_type": "code",
     "collapsed": false,
     "input": [],
     "language": "python",
     "metadata": {},
     "outputs": []
    }
   ],
   "metadata": {}
  }
 ]
}