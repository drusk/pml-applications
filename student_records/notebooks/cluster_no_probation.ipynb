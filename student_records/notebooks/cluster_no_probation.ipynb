{
 "metadata": {
  "name": "cluster_no_probation"
 },
 "nbformat": 3,
 "nbformat_minor": 0,
 "worksheets": [
  {
   "cells": [
    {
     "cell_type": "code",
     "collapsed": false,
     "input": [
      "from pml.api import *"
     ],
     "language": "python",
     "metadata": {},
     "outputs": [],
     "prompt_number": 2
    },
    {
     "cell_type": "code",
     "collapsed": false,
     "input": [
      "data = load(\"../dataset_ext2.csv\")\n",
      "data = data.label_filter([\"s\", \"f\"])"
     ],
     "language": "python",
     "metadata": {},
     "outputs": [],
     "prompt_number": 7
    },
    {
     "cell_type": "code",
     "collapsed": false,
     "input": [
      "slice = data.slice_features([\"MATH101\", \"PHYS125\"])\n",
      "slice = slice.drop_empty_samples()\n",
      "slice.fill_missing_with_feature_means()"
     ],
     "language": "python",
     "metadata": {},
     "outputs": [],
     "prompt_number": 8
    },
    {
     "cell_type": "code",
     "collapsed": false,
     "input": [
      "print \"Number of samples: %d\" % data.num_samples()\n",
      "print \"Label value counts:\"\n",
      "print data.get_label_value_counts()"
     ],
     "language": "python",
     "metadata": {},
     "outputs": [
      {
       "output_type": "stream",
       "stream": "stdout",
       "text": [
        "Number of samples: 59\n",
        "Label value counts:\n",
        "f    30\n",
        "s    29\n"
       ]
      }
     ],
     "prompt_number": 9
    },
    {
     "cell_type": "code",
     "collapsed": false,
     "input": [
      "import matplotlib.pyplot as plt\n",
      "\n",
      "markers = {\"s\": \"o\", \"p\": \"^\", \"f\": \"x\"}\n",
      "colours = {\"s\": \"g\", \"p\": \"y\", \"f\": \"r\"}\n",
      "\n",
      "df = slice._dataframe\n",
      "\n",
      "fig = plt.figure()\n",
      "ax = fig.add_subplot(111)\n",
      "\n",
      "for label in slice.get_label_set():\n",
      "    filtered_slice = slice.label_filter(label)\n",
      "    \n",
      "    xs = filtered_slice.get_column(\"MATH101\")\n",
      "    ys = filtered_slice.get_column(\"PHYS125\")\n",
      "\n",
      "    ax.scatter(xs, ys, color=colours[label], \n",
      "               marker=markers[label])\n",
      "\n",
      "ax.set_xlabel(\"MATH101\")\n",
      "ax.set_ylabel(\"PHYS125\")\n",
      "\n",
      "plt.show()"
     ],
     "language": "python",
     "metadata": {},
     "outputs": [],
     "prompt_number": 12
    },
    {
     "cell_type": "code",
     "collapsed": false,
     "input": [
      "def print_results(cluster_results):\n",
      "    print \"Rand index: %f\" % cluster_results.calculate_rand_index()\n",
      "    print \"Purity:     %f\" % cluster_results.calculate_purity()"
     ],
     "language": "python",
     "metadata": {},
     "outputs": [],
     "prompt_number": 13
    },
    {
     "cell_type": "code",
     "collapsed": false,
     "input": [
      "# Use random centroids\n",
      "cluster_rand = kmeans(slice, k=2, distance=euclidean)\n",
      "print_results(cluster_rand)"
     ],
     "language": "python",
     "metadata": {},
     "outputs": [
      {
       "output_type": "stream",
       "stream": "stdout",
       "text": [
        "Rand index: 0.683258\n",
        "Purity:     0.807692\n"
       ]
      }
     ],
     "prompt_number": 23
    },
    {
     "cell_type": "code",
     "collapsed": false,
     "input": [],
     "language": "python",
     "metadata": {},
     "outputs": []
    }
   ],
   "metadata": {}
  }
 ]
}