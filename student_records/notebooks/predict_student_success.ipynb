{
 "metadata": {
  "name": "predict_student_success"
 },
 "nbformat": 3,
 "nbformat_minor": 0,
 "worksheets": [
  {
   "cells": [
    {
     "cell_type": "code",
     "collapsed": false,
     "input": [
      "from pml.api import *"
     ],
     "language": "python",
     "metadata": {},
     "outputs": [],
     "prompt_number": 1
    },
    {
     "cell_type": "code",
     "collapsed": false,
     "input": [
      "training = load(\"../dataset_ext2.csv\")\n",
      "training.combine_labels([\"s\", \"p\"], \"s\")"
     ],
     "language": "python",
     "metadata": {},
     "outputs": [],
     "prompt_number": 2
    },
    {
     "cell_type": "code",
     "collapsed": false,
     "input": [
      "classifier = Knn(training, k=3)"
     ],
     "language": "python",
     "metadata": {},
     "outputs": [],
     "prompt_number": 3
    },
    {
     "cell_type": "code",
     "collapsed": false,
     "input": [
      "classifier.classify({\n",
      "    \"MATH100\": 5,\n",
      "    \"MATH101\": 5,\n",
      "    \"MATH110\": 5,\n",
      "    \"CSC111\": 5,\n",
      "    \"CSC115\": 5,\n",
      "    \"PHYS122\": 5,\n",
      "    \"PHYS125\": 5,\n",
      "    \"MECH141\": 5,\n",
      "    \"CHEM150\": 5,\n",
      "    \"ENGL135\": 5,\n",
      "    \"ELEC199\": 5,\n",
      "    \"ENGR110\": None,\n",
      "    \"ENGR120\": None\n",
      "})"
     ],
     "language": "python",
     "metadata": {},
     "outputs": [
      {
       "output_type": "pyout",
       "prompt_number": 4,
       "text": [
        "'s'"
       ]
      }
     ],
     "prompt_number": 4
    },
    {
     "cell_type": "code",
     "collapsed": false,
     "input": [],
     "language": "python",
     "metadata": {},
     "outputs": []
    }
   ],
   "metadata": {}
  }
 ]
}