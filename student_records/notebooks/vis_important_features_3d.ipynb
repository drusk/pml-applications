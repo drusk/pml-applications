{
 "metadata": {
  "name": "vis_important_features_3d"
 },
 "nbformat": 3,
 "nbformat_minor": 0,
 "worksheets": [
  {
   "cells": [
    {
     "cell_type": "code",
     "collapsed": false,
     "input": [
      "from pml.api import *"
     ],
     "language": "python",
     "metadata": {},
     "outputs": [],
     "prompt_number": 1
    },
    {
     "cell_type": "code",
     "collapsed": false,
     "input": [
      "data = load(\"../dataset_ext2.csv\")\n",
      "data.fill_missing_with_feature_means()"
     ],
     "language": "python",
     "metadata": {},
     "outputs": [],
     "prompt_number": 2
    },
    {
     "cell_type": "code",
     "collapsed": false,
     "input": [
      "get_pct_variance_per_principal_component(data)"
     ],
     "language": "python",
     "metadata": {},
     "outputs": [
      {
       "output_type": "pyout",
       "prompt_number": 3,
       "text": [
        "0     0.381794\n",
        "1     0.120831\n",
        "2     0.101559\n",
        "3     0.096471\n",
        "4     0.078148\n",
        "5     0.052862\n",
        "6     0.046124\n",
        "7     0.043171\n",
        "8     0.035261\n",
        "9     0.022601\n",
        "10    0.019174\n",
        "11    0.001846\n",
        "12    0.000156"
       ]
      }
     ],
     "prompt_number": 3
    },
    {
     "cell_type": "code",
     "collapsed": false,
     "input": [
      "pca_data = pca(data, 2)"
     ],
     "language": "python",
     "metadata": {},
     "outputs": [],
     "prompt_number": 4
    },
    {
     "cell_type": "code",
     "collapsed": false,
     "input": [
      "pca_data.get_first_component_impacts()"
     ],
     "language": "python",
     "metadata": {},
     "outputs": [
      {
       "output_type": "pyout",
       "prompt_number": 5,
       "text": [
        "MATH110    0.472499\n",
        "CSC111     0.339158\n",
        "CSC115     0.335191\n",
        "MECH141    0.320300\n",
        "PHYS122    0.288521\n",
        "PHYS125    0.287089\n",
        "MATH100    0.271468\n",
        "ELEC199    0.268938\n",
        "MATH101    0.260933\n",
        "CHEM150    0.242886\n",
        "ENGL135    0.089390\n",
        "ENGR120    0.002989\n",
        "ENGR110    0.002226"
       ]
      }
     ],
     "prompt_number": 5
    },
    {
     "cell_type": "code",
     "collapsed": false,
     "input": [
      "slice = data.slice_features([\"MATH110\", \"CSC111\", \"CSC115\"])"
     ],
     "language": "python",
     "metadata": {},
     "outputs": [],
     "prompt_number": 6
    },
    {
     "cell_type": "code",
     "collapsed": false,
     "input": [
      "import matplotlib.pyplot as plt\n",
      "from mpl_toolkits.mplot3d import Axes3D\n",
      "\n",
      "fig = plt.figure()\n",
      "ax = fig.add_subplot(111, projection=\"3d\")\n",
      "\n",
      "markers = {\"s\": \"o\", \"p\": \"^\", \"f\": \"x\"}\n",
      "colours = {\"s\": \"g\", \"p\": \"y\", \"f\": \"r\"}\n",
      "\n",
      "for label in slice.get_label_set():\n",
      "    filtered_slice = slice.label_filter(label)\n",
      "    \n",
      "    xs = filtered_slice.get_column(\"MATH110\")\n",
      "    ys = filtered_slice.get_column(\"CSC111\")\n",
      "    zs = filtered_slice.get_column(\"CSC115\")\n",
      "\n",
      "    ax.scatter(xs, ys, zs, color=colours[label], \n",
      "               marker=markers[label])\n",
      "\n",
      "ax.set_xlabel(\"MATH110\")\n",
      "ax.set_ylabel(\"CSC111\")\n",
      "ax.set_zlabel(\"CSC115\")\n",
      "\n",
      "plt.show()"
     ],
     "language": "python",
     "metadata": {},
     "outputs": [],
     "prompt_number": 10
    },
    {
     "cell_type": "code",
     "collapsed": false,
     "input": [],
     "language": "python",
     "metadata": {},
     "outputs": []
    }
   ],
   "metadata": {}
  }
 ]
}