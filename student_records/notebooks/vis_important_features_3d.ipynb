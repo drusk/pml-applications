{
 "metadata": {
  "name": "vis_important_features_3d"
 },
 "nbformat": 3,
 "nbformat_minor": 0,
 "worksheets": [
  {
   "cells": [
    {
     "cell_type": "code",
     "collapsed": false,
     "input": [
      "from pml.api import *\n",
      "import pandas as pd"
     ],
     "language": "python",
     "metadata": {},
     "outputs": [],
     "prompt_number": 6
    },
    {
     "cell_type": "code",
     "collapsed": false,
     "input": [
      "data = load(\"../dataset_ext2.csv\")\n",
      "data = data.drop_empty_samples()"
     ],
     "language": "python",
     "metadata": {},
     "outputs": [],
     "prompt_number": 7
    },
    {
     "cell_type": "code",
     "collapsed": false,
     "input": [
      "data = data.label_filter([\"f\", \"s\"])"
     ],
     "language": "python",
     "metadata": {},
     "outputs": [],
     "prompt_number": 8
    },
    {
     "cell_type": "code",
     "collapsed": false,
     "input": [
      "print \"Number of samples: %d\" % data.num_samples()\n",
      "print \"Label value counts:\"\n",
      "print data.get_label_value_counts()"
     ],
     "language": "python",
     "metadata": {},
     "outputs": [
      {
       "output_type": "stream",
       "stream": "stdout",
       "text": [
        "Number of samples: 56\n",
        "Label value counts:\n",
        "f    30\n",
        "s    26\n"
       ]
      }
     ],
     "prompt_number": 9
    },
    {
     "cell_type": "code",
     "collapsed": false,
     "input": [
      "data.fill_missing_with_feature_means()"
     ],
     "language": "python",
     "metadata": {},
     "outputs": [],
     "prompt_number": 10
    },
    {
     "cell_type": "code",
     "collapsed": false,
     "input": [
      "get_pct_variance_per_principal_component(data)"
     ],
     "language": "python",
     "metadata": {},
     "outputs": [
      {
       "output_type": "pyout",
       "prompt_number": 11,
       "text": [
        "0     0.414377\n",
        "1     0.125420\n",
        "2     0.111666\n",
        "3     0.085183\n",
        "4     0.058361\n",
        "5     0.051809\n",
        "6     0.042735\n",
        "7     0.038501\n",
        "8     0.030552\n",
        "9     0.023278\n",
        "10    0.015827\n",
        "11    0.002119\n",
        "12    0.000172"
       ]
      }
     ],
     "prompt_number": 11
    },
    {
     "cell_type": "code",
     "collapsed": false,
     "input": [
      "pca_data = pca(data, 2)"
     ],
     "language": "python",
     "metadata": {},
     "outputs": [],
     "prompt_number": 12
    },
    {
     "cell_type": "code",
     "collapsed": false,
     "input": [
      "pca_data.get_first_component_impacts()"
     ],
     "language": "python",
     "metadata": {},
     "outputs": [
      {
       "output_type": "pyout",
       "prompt_number": 13,
       "text": [
        "MATH110    0.495145\n",
        "MECH141    0.330735\n",
        "CSC115     0.309409\n",
        "PHYS122    0.292875\n",
        "CSC111     0.292110\n",
        "PHYS125    0.287645\n",
        "ELEC199    0.283053\n",
        "MATH101    0.270553\n",
        "MATH100    0.270476\n",
        "CHEM150    0.248746\n",
        "ENGL135    0.086606\n",
        "ENGR120    0.003390\n",
        "ENGR110    0.002649"
       ]
      }
     ],
     "prompt_number": 13
    },
    {
     "cell_type": "code",
     "collapsed": false,
     "input": [
      "slice = data.slice_features([\"MATH110\", \"MECH141\", \"CSC115\"])"
     ],
     "language": "python",
     "metadata": {},
     "outputs": [],
     "prompt_number": 16
    },
    {
     "cell_type": "code",
     "collapsed": false,
     "input": [
      "import matplotlib.pyplot as plt\n",
      "from mpl_toolkits.mplot3d import Axes3D\n",
      "\n",
      "fig = plt.figure()\n",
      "ax = fig.add_subplot(111, projection=\"3d\")\n",
      "\n",
      "markers = {\"s\": \"o\", \"p\": \"^\", \"f\": \"x\"}\n",
      "colours = {\"s\": \"g\", \"p\": \"y\", \"f\": \"r\"}\n",
      "\n",
      "for label in slice.get_label_set():\n",
      "    filtered_slice = slice.label_filter(label)\n",
      "    \n",
      "    xs = filtered_slice.get_column(\"MATH110\")\n",
      "    ys = filtered_slice.get_column(\"MECH141\")\n",
      "    zs = filtered_slice.get_column(\"CSC115\")\n",
      "\n",
      "    ax.scatter(xs, ys, zs, color=colours[label], \n",
      "               marker=markers[label])\n",
      "\n",
      "ax.set_xlabel(\"MATH110\")\n",
      "ax.set_ylabel(\"MECH141\")\n",
      "ax.set_zlabel(\"CSC115\")\n",
      "\n",
      "plt.show()"
     ],
     "language": "python",
     "metadata": {},
     "outputs": [],
     "prompt_number": 17
    },
    {
     "cell_type": "code",
     "collapsed": false,
     "input": [
      "# Using all 3 labels.  \n",
      "# Based on the 3D plot, choose some decent initial centroids\n",
      "centroids = [pd.Series({\"MATH110\": 6.5, \"CSC111\": 6,   \"CSC115\": 6}), # s\n",
      "             pd.Series({\"MATH110\": 3,   \"CSC111\": 2,   \"CSC115\": 4}), # p\n",
      "             pd.Series({\"MATH110\": 1.5, \"CSC111\": 3.5, \"CSC115\": 2})  # f\n",
      "            ]"
     ],
     "language": "python",
     "metadata": {},
     "outputs": [],
     "prompt_number": 20
    },
    {
     "cell_type": "code",
     "collapsed": false,
     "input": [
      "# Using p and f combined.  \n",
      "# Based on the 3D plot, choose some decent initial centroids\n",
      "centroids = [pd.Series({\"MATH110\": 7, \"CSC111\": 6, \"CSC115\": 7}), # s\n",
      "             pd.Series({\"MATH110\": 2, \"CSC111\": 3, \"CSC115\": 3})  # f\n",
      "            ]"
     ],
     "language": "python",
     "metadata": {},
     "outputs": [],
     "prompt_number": 43
    },
    {
     "cell_type": "code",
     "collapsed": false,
     "input": [
      "# p filtered out\n",
      "# Based on the 3D plot, choose some decent initial centroids\n",
      "centroids = [pd.Series({\"MATH110\": 6, \"MECH141\": 4.5, \"CSC115\": 7}), # s\n",
      "             pd.Series({\"MATH110\": 2, \"MECH141\": 1,   \"CSC115\": 3})  # f\n",
      "            ]"
     ],
     "language": "python",
     "metadata": {},
     "outputs": [],
     "prompt_number": 18
    },
    {
     "cell_type": "code",
     "collapsed": false,
     "input": [
      "def print_results(cluster_results):\n",
      "    print \"Rand index: %f\" % cluster_results.calculate_rand_index()\n",
      "    print \"Purity:     %f\" % cluster_results.calculate_purity()"
     ],
     "language": "python",
     "metadata": {},
     "outputs": [],
     "prompt_number": 19
    },
    {
     "cell_type": "code",
     "collapsed": false,
     "input": [
      "# Use random centroids\n",
      "cluster_rand = kmeans(slice, k=2)\n",
      "print_results(cluster_rand)"
     ],
     "language": "python",
     "metadata": {},
     "outputs": [
      {
       "output_type": "stream",
       "stream": "stdout",
       "text": [
        "Rand index: 0.637013\n",
        "Purity:     0.767857\n"
       ]
      }
     ],
     "prompt_number": 26
    },
    {
     "cell_type": "code",
     "collapsed": false,
     "input": [
      "cluster_cent = kmeans(slice, k=2, centroids=centroids)\n",
      "print_results(cluster_cent)"
     ],
     "language": "python",
     "metadata": {},
     "outputs": [
      {
       "output_type": "stream",
       "stream": "stdout",
       "text": [
        "Rand index: 0.637013\n",
        "Purity:     0.767857\n"
       ]
      }
     ],
     "prompt_number": 22
    },
    {
     "cell_type": "code",
     "collapsed": false,
     "input": [],
     "language": "python",
     "metadata": {},
     "outputs": []
    }
   ],
   "metadata": {}
  }
 ]
}