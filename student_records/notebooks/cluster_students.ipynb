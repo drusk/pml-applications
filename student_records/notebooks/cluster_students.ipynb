{
 "metadata": {
  "name": "cluster_students"
 },
 "nbformat": 3,
 "nbformat_minor": 0,
 "worksheets": [
  {
   "cells": [
    {
     "cell_type": "code",
     "collapsed": false,
     "input": [
      "from pml.api import *"
     ],
     "language": "python",
     "metadata": {},
     "outputs": [],
     "prompt_number": 1
    },
    {
     "cell_type": "code",
     "collapsed": false,
     "input": [
      "data = load(\"../dataset_ext2.csv\")\n",
      "data.fill_missing_with_feature_means()\n",
      "data.combine_labels([\"p\", \"f\"], \"f\")\n",
      "data.get_label_value_counts()"
     ],
     "language": "python",
     "metadata": {},
     "outputs": [
      {
       "output_type": "pyout",
       "prompt_number": 35,
       "text": [
        "f    51\n",
        "s    29"
       ]
      }
     ],
     "prompt_number": 35
    },
    {
     "cell_type": "code",
     "collapsed": false,
     "input": [
      "def print_results(cluster_results):\n",
      "    print \"Rand index: %f\" % cluster_results.calculate_rand_index()\n",
      "    print \"Purity:     %f\" % cluster_results.calculate_purity()"
     ],
     "language": "python",
     "metadata": {},
     "outputs": [],
     "prompt_number": 23
    },
    {
     "cell_type": "code",
     "collapsed": false,
     "input": [
      "cluster_euc = kmeans(data, k=2, distance=euclidean)\n",
      "print_results(cluster_euc)"
     ],
     "language": "python",
     "metadata": {},
     "outputs": [
      {
       "output_type": "stream",
       "stream": "stdout",
       "text": [
        "Rand index: 0.646835\n",
        "Purity:     0.775000\n"
       ]
      }
     ],
     "prompt_number": 34
    },
    {
     "cell_type": "code",
     "collapsed": false,
     "input": [
      "cluster_cos = kmeans(data, k=2, distance=cosine_distance)\n",
      "print_results(cluster_cos)"
     ],
     "language": "python",
     "metadata": {},
     "outputs": [
      {
       "output_type": "stream",
       "stream": "stdout",
       "text": [
        "Rand index: 0.496519\n",
        "Purity:     0.637500\n"
       ]
      }
     ],
     "prompt_number": 33
    },
    {
     "cell_type": "code",
     "collapsed": false,
     "input": [],
     "language": "python",
     "metadata": {},
     "outputs": []
    }
   ],
   "metadata": {}
  }
 ]
}